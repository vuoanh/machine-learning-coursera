{
 "cells": [
  {
   "cell_type": "markdown",
   "metadata": {},
   "source": [
    "### Matrix \n",
    "$A = \\begin{bmatrix}\n",
    "1401 & 191 \\\\\n",
    "1371 & 821 \\\\\n",
    "949 & 1437 \\\\\n",
    "147 & 1448 \\\\\n",
    "\\end{bmatrix} $ \n",
    "\n",
    "$A_{ij} = $ \"$i,j$ entry\" in the $i_{th}$ row, $j_{th}$ column\n",
    "\n",
    "### Vector \n",
    "An n x 1 matrix\n"
   ]
  },
  {
   "cell_type": "markdown",
   "metadata": {},
   "source": [
    "### Matrix-vector multiplication\n",
    "e.g:\n",
    "\n",
    "> $ \\begin{bmatrix}\n",
    "1 & 3 \\\\\n",
    "4 & 0 \\\\\n",
    "2 & 1 \\\\\n",
    "\\end{bmatrix}\n",
    "\\begin{bmatrix} \n",
    "1 \\\\\n",
    "5\\\\\n",
    "\\end{bmatrix} =\n",
    "\\begin{bmatrix} \n",
    "1\\times 1 + 3\\times 5 \\\\\n",
    "4 \\times 1 + 0 \\times 5\\\\\n",
    "2 \\times 1 + 1 \\times 5\n",
    "\\end{bmatrix} = \n",
    "\\begin{bmatrix} \n",
    "16 \\\\\n",
    "4\\\\\n",
    "7\\\\\n",
    "\\end{bmatrix}$\n"
   ]
  },
  {
   "cell_type": "markdown",
   "metadata": {},
   "source": [
    "$ A \\times B $ such that number of rows of $A$ equals to the number of columns of $B$"
   ]
  },
  {
   "cell_type": "markdown",
   "metadata": {},
   "source": [
    "#### An example of how to apply matrix multiplication into regression problem\n",
    "\n",
    "|House sizes|\n",
    "|----|\n",
    "|2104|\n",
    "|1416|\n",
    "|1534|\n",
    "|852|\n",
    "\n",
    "$h_\\theta(x) = -40 +0.25x$\n",
    "\n",
    "$\\begin{bmatrix}\n",
    "1& 2014\\\\\n",
    "1& 1416\\\\\n",
    "1& 1534\\\\\n",
    "1& 853\\\\\n",
    "\\end {bmatrix} \\times \n",
    "\\begin{bmatrix}\n",
    "-40\\\\\n",
    "0.25\\\\\n",
    "\\end {bmatrix}  = $ List of predicted house prices $h_\\theta(x)$"
   ]
  },
  {
   "cell_type": "markdown",
   "metadata": {},
   "source": [
    "### Matrix-matrix multiplication\n",
    "a product of a $\\color{red}{m\\times n}$ matrix $A$ (m rows, n columns) and a $\\color{red}{n\\times p}$ matrix $B$ (n rows, p columns is a $\\color{red}{m \\times p}$ matrix "
   ]
  },
  {
   "cell_type": "markdown",
   "metadata": {},
   "source": [
    "### Application on the linear regression\n",
    "\n",
    "Test different values of $\\theta_0$ and $\\theta_1$\n",
    "\n",
    "|House sizes|\n",
    "|----|\n",
    "|2104|\n",
    "|1416|\n",
    "|1534|\n",
    "|852|\n",
    "\n",
    "There hypothesises for $h_\\theta(x)$:\n",
    "* $h_\\theta(x) = -40 +0.25x$\n",
    "\n",
    "* $h_\\theta(x) = 200 +0.1x$\n",
    "\n",
    "* $h_\\theta(x) = -150 +0.4x$\n",
    "\n",
    "$\\begin{bmatrix}\n",
    "1& 2014\\\\\n",
    "1& 1416\\\\\n",
    "1& 1534\\\\\n",
    "1& 853\\\\\n",
    "\\end {bmatrix} \\times \n",
    "\\begin{bmatrix}\n",
    "-40 & 200 & -150\\\\\n",
    "0.25 & 0.1 & 0.4\\\\\n",
    "\\end {bmatrix}  = $ List of predicted house prices $h_\\theta(x)$"
   ]
  },
  {
   "cell_type": "markdown",
   "metadata": {},
   "source": [
    "#### Properties of matrix multiplication\n",
    "1. It is not commutative\n",
    "2. It is associative \n",
    "\n",
    "    e.g: $(A\\times B) \\times C = A\\times (B \\times C) $\n",
    "3. Identity matrix $I_{n\\times n}$ \n",
    "\n",
    "    e.g:\n",
    "$\\begin{bmatrix}\n",
    "1&0&0&0 \\\\\n",
    "0&1&0&0 \\\\\n",
    "0&0&1&0 \\\\\n",
    "0&0&0&1 \\\\\n",
    "\\end{bmatrix}$\n",
    "\n",
    "    For any matrix $A$, $A \\times I = I \\times A = A$"
   ]
  },
  {
   "cell_type": "code",
   "execution_count": null,
   "metadata": {
    "collapsed": true
   },
   "outputs": [],
   "source": [
    "A = [1 3 -1]\n",
    "B = [2; 2; 4]\n",
    "C = mtimes(A,B)"
   ]
  },
  {
   "cell_type": "code",
   "execution_count": null,
   "metadata": {
    "collapsed": true
   },
   "outputs": [],
   "source": [
    "1 +2"
   ]
  },
  {
   "cell_type": "code",
   "execution_count": null,
   "metadata": {
    "collapsed": true
   },
   "outputs": [],
   "source": [
    "t = linspace(0,6*pi,100);\n",
    "plot(sin(t))\n",
    "grid on\n",
    "hold on\n",
    "plot(cos(t), 'r')"
   ]
  },
  {
   "cell_type": "code",
   "execution_count": null,
   "metadata": {
    "collapsed": true
   },
   "outputs": [],
   "source": [
    "MATLAB_EXECUTABLE=/usr/bin/matlab\n",
    "ipython notebook --kernel=matlab_kernel"
   ]
  }
 ],
 "metadata": {
  "kernelspec": {
   "display_name": "Matlab",
   "language": "matlab",
   "name": "matlab"
  }
 },
 "nbformat": 4,
 "nbformat_minor": 0
}
