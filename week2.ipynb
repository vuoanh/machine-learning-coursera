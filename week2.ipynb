{
 "cells": [
  {
   "cell_type": "markdown",
   "metadata": {
    "collapsed": true
   },
   "source": [
    "### Multiple features (variables)\n",
    "if there are more than variable of x -> predict y\n",
    "\n",
    "e.g:\n",
    "\n",
    "size|number of bedrooms|number of floors| age of home|price\n",
    "----|------------------|----------------|------------|-----\n",
    "2104|5|1|45|460\n",
    "...|...|...|...|...\n",
    "\n",
    "> Notation:\n",
    "\n",
    "> n : number of features\n",
    "\n",
    ">$x^{(i)}$ input(features) of $i^{th}$ training example\n",
    "\n",
    ">$x^{(i)}_j$ value of feature j in $i^{th}$ training example\n",
    "\n",
    "**Hypothesis**:\n",
    "\n",
    "$$h_\\theta(x) = \\theta_0 + \\theta_1x_1 +\\theta_2x_2 +...+ \\theta_nx_n$$\n",
    "\n",
    "For convenience of notation, define $x_0 = 1$.\n",
    "\n",
    "Then, $x = \\begin{bmatrix}\n",
    "x_0 \\\\\n",
    "x_1 \\\\\n",
    "x_2 \\\\\n",
    "...\n",
    "x_n \\\\\n",
    "\\end{bmatrix}$   and    $\\theta = \\begin{bmatrix}\n",
    "\\theta_0 \\\\\n",
    "\\theta_1 \\\\\n",
    "\\theta_2 \\\\\n",
    "  ...\n",
    "\\theta_n \\\\\n",
    "\\end{bmatrix}$\n",
    "\n",
    "Hence, \n",
    "\n",
    "$$\\color{red}{h_{\\theta}(x) = \\theta^Tx}$$"
   ]
  },
  {
   "cell_type": "markdown",
   "metadata": {},
   "source": [
    "### Gradient descent for Multiple Variables\n",
    "\n",
    "**Cost function**\n",
    "\n",
    "$$ J(\\theta) = \\frac{1}{2m}\\sum_{i=1}^m(h_{\\theta}(x^{(i)}) - y^{(i)})^2$$\n",
    "\n",
    "**Gradient descent** :\n",
    "\n",
    "Repeat $ \\{ \\\\\n",
    "\\theta_j := \\theta_j - \\alpha \\frac{\\partial}{\\partial\\theta_j}J(\\theta) \\\\\n",
    "\\}$ (Simultaneously update for every J = 0,...,n)\n",
    "\n",
    "**New algorithm** (n ≥ 1):\n",
    "\n",
    "Repeat $ \\{ \\\\\n",
    "\\theta_j := \\theta_j - \\alpha \\frac{1}{m}\\sum_{i = 1}^m(h_{\\theta}(x^{(i)}) - y^{(i)})x^{(i)}_0 \\\\\n",
    "\\}$ (Simultaneously update for every J = 0,...,n)\n"
   ]
  },
  {
   "cell_type": "markdown",
   "metadata": {},
   "source": [
    "### Feature Scaling\n",
    "Idea: Make sure features are on a simlar scale.\n",
    "\n",
    "E.g. $x_1 = $ size (0-2000 ft^2)\n",
    "\n",
    "$x_1 = $ number of bedrooms(1-5)\n",
    "\n",
    "2 variables have different scales => $x_1 = \\frac{size}{2000} \\\\\n",
    "x_2 = \\frac{number\\ of\\ bedrooms}{5} $\n",
    "\n",
    "**General rule**:\n",
    "Get every feature into ~ $-1 ≤ x_i ≤ 1$\n",
    "\n",
    "### Mean Normalization\n",
    "Replace $x_i$ with $x_i - \\mu_i$ to make features have ~ zero mean (do not apply to $x_0$ = 1)\n",
    "\n",
    "$$x_i \\leftarrow \\frac{x_i - \\mu_i}{max - min}$$"
   ]
  },
  {
   "cell_type": "markdown",
   "metadata": {},
   "source": [
    "### Debugging\n",
    "\n",
    "**1. Make sure that gradient descent is working correctly**\n",
    "\n",
    "$J(\\theta)$ should decrease after every iteration (look at the plot between no.iteration and $J(\\theta)$).\n",
    "\n",
    "If $J(\\theta)$ is inceasing, use a smaller $\\alpha$.\n",
    "\n",
    "To choose $\\alpha$, try: 0.001, 0.01, 0.1 and 1\n"
   ]
  },
  {
   "cell_type": "markdown",
   "metadata": {
    "collapsed": true
   },
   "source": [
    "### Features and Polynomial Regression\n",
    "\n",
    "Choice of deatures:\n",
    "- $h_\\theta(x) = \\theta_0 +\\theta_1(size) + \\theta_2(size)^2$"
   ]
  },
  {
   "cell_type": "markdown",
   "metadata": {},
   "source": [
    "### Normal Equation\n",
    "**definition** method to solve for $\\theta$ analytically\n",
    "\n",
    "**intuition**: if 1D($\\theta \\in \\mathbb{R}$)\n",
    "\n",
    "$\\frac{d}{d\\theta)J(\\theta)} = 0$ then solve for $\\theta$\n",
    "\n",
    "In this context\n",
    "\n",
    "$\\theta \\in \\mathbb{R}^{n+1} $ and \n",
    "$$J(\\theta_0, \\theta_1,..., \\theta_m) = \\frac{1}{2m}\\sum^{m}_{i = 1}(h_\\theta(x^{(i)}) - y^{(i)})^2$$\n",
    "\n",
    "Set $\\frac{\\partial}{\\partial\\theta_j)}J(\\theta) = 0$ (for every $j$)\n",
    "\n",
    "Then solve for $\\theta_0, \\theta_1,..., \\theta_m$\n",
    "\n",
    "#### Example\n",
    "**m=4**\n",
    "\n",
    "$x_0$ | Size(ft^2)|Number of bedrooms|number of floors|Age of home(years)| Price(1000 dollars)\n",
    "----|----|---|----|---|---\n",
    "1|2104|5|1|45|460\n",
    "1|1416|3|2|40|232\n",
    "1|1534|3|2|30|315\n",
    "1|852|2|1|36|178\n",
    "\n",
    "$X = \\begin{bmatrix}\n",
    "1 & 210 & 5 & 1 & 45  \\\\\n",
    "1 & 1416 & 3 & 2 & 40  \\\\\n",
    "1 & 1534 & 3 & 2 & 30  \\\\\n",
    "1 & 852 & 2 & 1 & 36  \\\\\n",
    "\\end{bmatrix}$\n",
    "\n",
    "X is the parameters we use to predict the Price (y)\n",
    "\n",
    "$y = \\begin{bmatrix}\n",
    "460 \\\\\n",
    "232 \\\\\n",
    "315 \\\\\n",
    "278 \\\\\n",
    "\\end{bmatrix}$\n",
    "\n",
    "$$ \\theta = (X^TX)^{-1}X^Ty$$\n",
    "\n",
    "**Matlab**\n",
    ">pinv(X' * X) * X' * y\n",
    "\n",
    "**NOTE**\n",
    "> It is ok to not do the feature scaling\n",
    "> **Gradient descent:**\n",
    ">* Need to choose $\\alpha$\n",
    ">* Needs many iterations\n",
    ">* Works well with even large n\n",
    ">\n",
    "> **Normal Equation**\n",
    ">* Doesnt work well with a large n (n < 10k)"
   ]
  },
  {
   "cell_type": "code",
   "execution_count": 1,
   "metadata": {
    "collapsed": false
   },
   "outputs": [
    {
     "data": {
      "text/plain": [
       "81.0"
      ]
     },
     "execution_count": 1,
     "metadata": {},
     "output_type": "execute_result"
    }
   ],
   "source": [
    "(89 + 72 +94 +69)/4"
   ]
  },
  {
   "cell_type": "code",
   "execution_count": 3,
   "metadata": {
    "collapsed": false
   },
   "outputs": [
    {
     "data": {
      "text/plain": [
       "25"
      ]
     },
     "execution_count": 3,
     "metadata": {},
     "output_type": "execute_result"
    }
   ],
   "source": [
    "94-69"
   ]
  },
  {
   "cell_type": "code",
   "execution_count": 4,
   "metadata": {
    "collapsed": false
   },
   "outputs": [
    {
     "data": {
      "text/plain": [
       "0.52"
      ]
     },
     "execution_count": 4,
     "metadata": {},
     "output_type": "execute_result"
    }
   ],
   "source": [
    "(94-81)/25"
   ]
  },
  {
   "cell_type": "code",
   "execution_count": 5,
   "metadata": {
    "collapsed": false
   },
   "outputs": [
    {
     "data": {
      "text/plain": [
       "750"
      ]
     },
     "execution_count": 5,
     "metadata": {},
     "output_type": "execute_result"
    }
   ],
   "source": [
    "50*15"
   ]
  }
 ],
 "metadata": {
  "kernelspec": {
   "display_name": "Python 3",
   "language": "python",
   "name": "python3"
  },
  "language_info": {
   "codemirror_mode": {
    "name": "ipython",
    "version": 3
   },
   "file_extension": ".py",
   "mimetype": "text/x-python",
   "name": "python",
   "nbconvert_exporter": "python",
   "pygments_lexer": "ipython3",
   "version": "3.5.1"
  }
 },
 "nbformat": 4,
 "nbformat_minor": 0
}
