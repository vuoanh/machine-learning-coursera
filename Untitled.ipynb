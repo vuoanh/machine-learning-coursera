{
 "cells": [
  {
   "cell_type": "markdown",
   "metadata": {},
   "source": [
    "### Cost Function\n",
    "\n",
    "**Hypothesis** $h_\\theta = \\theta_0 + \\theta_1s$\n",
    "\n",
    "**Parameter** $\\theta_1, \\theta_0$\n",
    "\n",
    "**Cost Function** $J(\\theta_0, \\theta_1) = \\frac{1}{2m} \\sum_{i=m1}^{m}(h_\\theta(x^{(i)} - y^{(i)})^2$\n",
    "\n",
    "**Goal** : find $\\theta_0, \\theta_1$ to minimize $J(\\theta_0,\\theta_1)$"
   ]
  },
  {
   "cell_type": "code",
   "execution_count": 3,
   "metadata": {
    "collapsed": false
   },
   "outputs": [
    {
     "ename": "SyntaxError",
     "evalue": "invalid syntax (<ipython-input-3-a4e84e096566>, line 3)",
     "output_type": "error",
     "traceback": [
      "\u001b[0;36m  File \u001b[0;32m\"<ipython-input-3-a4e84e096566>\"\u001b[0;36m, line \u001b[0;32m3\u001b[0m\n\u001b[0;31m    grid on\u001b[0m\n\u001b[0m          ^\u001b[0m\n\u001b[0;31mSyntaxError\u001b[0m\u001b[0;31m:\u001b[0m invalid syntax\n"
     ]
    }
   ],
   "source": [
    "t = linespace(0,6*pi,100)\n",
    "plot(sin(t))\n",
    "grid on\n",
    "hold on\n",
    "plot(cos(t), 'r')"
   ]
  }
 ],
 "metadata": {
  "kernelspec": {
   "display_name": "Python 3",
   "language": "python",
   "name": "python3"
  },
  "language_info": {
   "codemirror_mode": {
    "name": "ipython",
    "version": 3
   },
   "file_extension": ".py",
   "mimetype": "text/x-python",
   "name": "python",
   "nbconvert_exporter": "python",
   "pygments_lexer": "ipython3",
   "version": "3.4.3"
  }
 },
 "nbformat": 4,
 "nbformat_minor": 0
}
