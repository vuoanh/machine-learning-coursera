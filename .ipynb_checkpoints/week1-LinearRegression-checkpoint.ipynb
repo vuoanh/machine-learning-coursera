{
 "cells": [
  {
   "cell_type": "markdown",
   "metadata": {},
   "source": [
    "### Cost Function\n",
    "\n",
    "**Hypothesis** $h_\\theta = \\theta_0 + \\theta_1s$\n",
    "\n",
    "**Parameter** $\\theta_1, \\theta_0$\n",
    "\n",
    "**Cost Function** $J(\\theta_0, \\theta_1) = \\frac{1}{2m} \\sum_{i=m1}^{m}(h_\\theta(x^{(i)} - y^{(i)})^2$\n",
    "\n",
    "**Goal** : find $\\theta_0, \\theta_1$ to minimize $J(\\theta_0,\\theta_1)$"
   ]
  },
  {
   "cell_type": "code",
   "execution_count": null,
   "metadata": {
    "collapsed": true
   },
   "outputs": [],
   "source": []
  }
 ],
 "metadata": {
  "kernelspec": {
   "display_name": "Matlab",
   "language": "matlab",
   "name": "matlab"
  }
 },
 "nbformat": 4,
 "nbformat_minor": 0
}
