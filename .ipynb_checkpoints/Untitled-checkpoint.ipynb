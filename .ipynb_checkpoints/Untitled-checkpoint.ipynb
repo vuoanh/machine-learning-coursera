{
 "cells": [
  {
   "cell_type": "markdown",
   "metadata": {},
   "source": [
    "### Cost Function\n",
    "\n",
    "**Hypothesis** $h_\\theta = \\theta_0 + \\theta_1s$\n",
    "\n",
    "**Parameter** $\\theta_1, \\theta_0$\n",
    "\n",
    "**Cost Function** $J(\\theta_0, \\theta_1) = \\frac{1}{2m} \\sum_{i=m1}^{m}(h_\\theta(x^{(i)} - y^{(i)})^2$\n",
    "\n",
    "**Goal** : find $\\theta_0, \\theta_1$ to minimize $J(\\theta_0,\\theta_1)$"
   ]
  },
  {
   "cell_type": "code",
   "execution_count": null,
   "metadata": {
    "collapsed": true
   },
   "outputs": [],
   "source": []
  }
 ],
 "metadata": {
  "kernelspec": {
   "display_name": "Python 3",
   "language": "python",
   "name": "python3"
  },
  "language_info": {
   "codemirror_mode": {
    "name": "ipython",
    "version": 3
   },
   "file_extension": ".py",
   "mimetype": "text/x-python",
   "name": "python",
   "nbconvert_exporter": "python",
   "pygments_lexer": "ipython3",
   "version": "3.4.3"
  }
 },
 "nbformat": 4,
 "nbformat_minor": 0
}
